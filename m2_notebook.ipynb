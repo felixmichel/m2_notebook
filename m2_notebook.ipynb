{
 "cells": [
  {
   "cell_type": "markdown",
   "metadata": {},
   "source": [
    "# Inequalities of Marseille a long the metro M2"
   ]
  },
  {
   "cell_type": "code",
   "execution_count": 3,
   "metadata": {
    "collapsed": true
   },
   "outputs": [],
   "source": [
    "%matplotlib inline\n",
    "\n",
    "from IPython.core.interactiveshell import InteractiveShell\n",
    "from datetime import datetime\n",
    "\n",
    "import glob\n",
    "import os\n",
    "import pandas as pd\n",
    "import numpy as np\n",
    "import seaborn as sns\n",
    "import matplotlib\n",
    "import json\n",
    "import matplotlib.pyplot as plt\n",
    "\n",
    "InteractiveShell.ast_node_interactivity = \"all\"\n",
    "pd.options.display.max_rows = 200\n",
    "#matplotlib.rcParams['svg.fonttype'] = 'none'"
   ]
  },
  {
   "cell_type": "code",
   "execution_count": 12,
   "metadata": {},
   "outputs": [],
   "source": [
    "#iris selction\n",
    "iris_csv = 'iris_selection.csv'\n",
    "\n",
    "iris_selection = pd.read_csv(iris_csv, header=0, names=['ligne', 'code_iris', 'lib_iris'])"
   ]
  },
  {
   "cell_type": "code",
   "execution_count": 23,
   "metadata": {},
   "outputs": [],
   "source": [
    "iris_selection['code_iris'] = iris_selection['code_iris'].astype('str')"
   ]
  },
  {
   "cell_type": "code",
   "execution_count": 28,
   "metadata": {},
   "outputs": [
    {
     "data": {
      "text/plain": [
       "50"
      ]
     },
     "execution_count": 28,
     "metadata": {},
     "output_type": "execute_result"
    }
   ],
   "source": [
    "iris_selection['code_iris'].nunique()"
   ]
  },
  {
   "cell_type": "markdown",
   "metadata": {},
   "source": [
    "## Revenus\n",
    "\n",
    "Data from: https://www.insee.fr/fr/statistiques/3288151, from December 2014"
   ]
  },
  {
   "cell_type": "code",
   "execution_count": 9,
   "metadata": {},
   "outputs": [],
   "source": [
    "#file path\n",
    "revenu_file = 'data/BASE_TD_FILO_DEC_IRIS_2014.xls'\n",
    "\n",
    "revenu = pd.read_excel(revenu_file, skiprows=5)"
   ]
  },
  {
   "cell_type": "code",
   "execution_count": 25,
   "metadata": {},
   "outputs": [],
   "source": [
    "revenu['IRIS'] = revenu['IRIS'].astype('str')"
   ]
  },
  {
   "cell_type": "code",
   "execution_count": 34,
   "metadata": {
    "collapsed": true
   },
   "outputs": [],
   "source": [
    "revenu_m2 = iris_selection.merge(revenu, left_on='code_iris', right_on='IRIS')"
   ]
  },
  {
   "cell_type": "code",
   "execution_count": 36,
   "metadata": {
    "scrolled": true
   },
   "outputs": [
    {
     "data": {
      "text/html": [
       "<div>\n",
       "<style>\n",
       "    .dataframe thead tr:only-child th {\n",
       "        text-align: right;\n",
       "    }\n",
       "\n",
       "    .dataframe thead th {\n",
       "        text-align: left;\n",
       "    }\n",
       "\n",
       "    .dataframe tbody tr th {\n",
       "        vertical-align: top;\n",
       "    }\n",
       "</style>\n",
       "<table border=\"1\" class=\"dataframe\">\n",
       "  <thead>\n",
       "    <tr style=\"text-align: right;\">\n",
       "      <th></th>\n",
       "      <th>ligne</th>\n",
       "      <th>code_iris</th>\n",
       "      <th>lib_iris</th>\n",
       "      <th>IRIS</th>\n",
       "      <th>LIBIRIS</th>\n",
       "      <th>COM</th>\n",
       "      <th>LIBCOM</th>\n",
       "      <th>DEC_PIMP14</th>\n",
       "      <th>DEC_TP6014</th>\n",
       "      <th>DEC_Q114</th>\n",
       "      <th>...</th>\n",
       "      <th>DEC_D914</th>\n",
       "      <th>DEC_RD14</th>\n",
       "      <th>DEC_S80S2014</th>\n",
       "      <th>DEC_GI14</th>\n",
       "      <th>DEC_PTSA14</th>\n",
       "      <th>DEC_PCHO14</th>\n",
       "      <th>DEC_PBEN14</th>\n",
       "      <th>DEC_PPEN14</th>\n",
       "      <th>DEC_PAUT14</th>\n",
       "      <th>note</th>\n",
       "    </tr>\n",
       "  </thead>\n",
       "  <tbody>\n",
       "    <tr>\n",
       "      <th>0</th>\n",
       "      <td>Bougainville</td>\n",
       "      <td>132150501</td>\n",
       "      <td>Zoccolat</td>\n",
       "      <td>132150501</td>\n",
       "      <td>Zoccolat</td>\n",
       "      <td>13215</td>\n",
       "      <td>Marseille 15e Arrondissement</td>\n",
       "      <td>13.441483</td>\n",
       "      <td>83.960059</td>\n",
       "      <td>1738.0</td>\n",
       "      <td>...</td>\n",
       "      <td>15030.0</td>\n",
       "      <td>NaN</td>\n",
       "      <td>1421.814867</td>\n",
       "      <td>0.502808</td>\n",
       "      <td>55.3</td>\n",
       "      <td>11.8</td>\n",
       "      <td>0.5</td>\n",
       "      <td>30.6</td>\n",
       "      <td>1.8</td>\n",
       "      <td>0</td>\n",
       "    </tr>\n",
       "    <tr>\n",
       "      <th>1</th>\n",
       "      <td>Bougainville</td>\n",
       "      <td>132140302</td>\n",
       "      <td>Casanova</td>\n",
       "      <td>132140302</td>\n",
       "      <td>Casanova</td>\n",
       "      <td>13214</td>\n",
       "      <td>Marseille 14e Arrondissement</td>\n",
       "      <td>27.017115</td>\n",
       "      <td>70.221704</td>\n",
       "      <td>870.0</td>\n",
       "      <td>...</td>\n",
       "      <td>20968.0</td>\n",
       "      <td>NaN</td>\n",
       "      <td>2267.168856</td>\n",
       "      <td>0.544484</td>\n",
       "      <td>55.1</td>\n",
       "      <td>6.3</td>\n",
       "      <td>1.6</td>\n",
       "      <td>34.8</td>\n",
       "      <td>2.2</td>\n",
       "      <td>0</td>\n",
       "    </tr>\n",
       "    <tr>\n",
       "      <th>2</th>\n",
       "      <td>National</td>\n",
       "      <td>132030304</td>\n",
       "      <td>Briancon</td>\n",
       "      <td>132030304</td>\n",
       "      <td>Briancon</td>\n",
       "      <td>13203</td>\n",
       "      <td>Marseille 3e Arrondissement</td>\n",
       "      <td>NaN</td>\n",
       "      <td>79.588993</td>\n",
       "      <td>2488.0</td>\n",
       "      <td>...</td>\n",
       "      <td>15916.0</td>\n",
       "      <td>NaN</td>\n",
       "      <td>140.373675</td>\n",
       "      <td>0.482422</td>\n",
       "      <td>NaN</td>\n",
       "      <td>NaN</td>\n",
       "      <td>NaN</td>\n",
       "      <td>NaN</td>\n",
       "      <td>NaN</td>\n",
       "      <td>0</td>\n",
       "    </tr>\n",
       "    <tr>\n",
       "      <th>3</th>\n",
       "      <td>National</td>\n",
       "      <td>132030306</td>\n",
       "      <td>Bellevue-Pyat</td>\n",
       "      <td>132030306</td>\n",
       "      <td>Bellevue-Pyat</td>\n",
       "      <td>13203</td>\n",
       "      <td>Marseille 3e Arrondissement</td>\n",
       "      <td>NaN</td>\n",
       "      <td>NaN</td>\n",
       "      <td>212.0</td>\n",
       "      <td>...</td>\n",
       "      <td>13504.0</td>\n",
       "      <td>NaN</td>\n",
       "      <td>NaN</td>\n",
       "      <td>0.534798</td>\n",
       "      <td>NaN</td>\n",
       "      <td>NaN</td>\n",
       "      <td>NaN</td>\n",
       "      <td>NaN</td>\n",
       "      <td>NaN</td>\n",
       "      <td>0</td>\n",
       "    </tr>\n",
       "    <tr>\n",
       "      <th>4</th>\n",
       "      <td>National</td>\n",
       "      <td>132030403</td>\n",
       "      <td>Fonscolombes</td>\n",
       "      <td>132030403</td>\n",
       "      <td>Fonscolombes</td>\n",
       "      <td>13203</td>\n",
       "      <td>Marseille 3e Arrondissement</td>\n",
       "      <td>21.021611</td>\n",
       "      <td>74.336283</td>\n",
       "      <td>2723.0</td>\n",
       "      <td>...</td>\n",
       "      <td>19686.0</td>\n",
       "      <td>NaN</td>\n",
       "      <td>99.594715</td>\n",
       "      <td>0.511922</td>\n",
       "      <td>61.8</td>\n",
       "      <td>8.7</td>\n",
       "      <td>3.0</td>\n",
       "      <td>25.5</td>\n",
       "      <td>1.0</td>\n",
       "      <td>0</td>\n",
       "    </tr>\n",
       "  </tbody>\n",
       "</table>\n",
       "<p>5 rows × 30 columns</p>\n",
       "</div>"
      ],
      "text/plain": [
       "          ligne  code_iris       lib_iris       IRIS        LIBIRIS    COM  \\\n",
       "0  Bougainville  132150501       Zoccolat  132150501       Zoccolat  13215   \n",
       "1  Bougainville  132140302       Casanova  132140302       Casanova  13214   \n",
       "2      National  132030304       Briancon  132030304       Briancon  13203   \n",
       "3      National  132030306  Bellevue-Pyat  132030306  Bellevue-Pyat  13203   \n",
       "4      National  132030403   Fonscolombes  132030403   Fonscolombes  13203   \n",
       "\n",
       "                         LIBCOM  DEC_PIMP14  DEC_TP6014  DEC_Q114  ...   \\\n",
       "0  Marseille 15e Arrondissement   13.441483   83.960059    1738.0  ...    \n",
       "1  Marseille 14e Arrondissement   27.017115   70.221704     870.0  ...    \n",
       "2   Marseille 3e Arrondissement         NaN   79.588993    2488.0  ...    \n",
       "3   Marseille 3e Arrondissement         NaN         NaN     212.0  ...    \n",
       "4   Marseille 3e Arrondissement   21.021611   74.336283    2723.0  ...    \n",
       "\n",
       "   DEC_D914  DEC_RD14  DEC_S80S2014  DEC_GI14  DEC_PTSA14  DEC_PCHO14  \\\n",
       "0   15030.0       NaN   1421.814867  0.502808        55.3        11.8   \n",
       "1   20968.0       NaN   2267.168856  0.544484        55.1         6.3   \n",
       "2   15916.0       NaN    140.373675  0.482422         NaN         NaN   \n",
       "3   13504.0       NaN           NaN  0.534798         NaN         NaN   \n",
       "4   19686.0       NaN     99.594715  0.511922        61.8         8.7   \n",
       "\n",
       "   DEC_PBEN14  DEC_PPEN14  DEC_PAUT14  note  \n",
       "0         0.5        30.6         1.8     0  \n",
       "1         1.6        34.8         2.2     0  \n",
       "2         NaN         NaN         NaN     0  \n",
       "3         NaN         NaN         NaN     0  \n",
       "4         3.0        25.5         1.0     0  \n",
       "\n",
       "[5 rows x 30 columns]"
      ]
     },
     "execution_count": 36,
     "metadata": {},
     "output_type": "execute_result"
    }
   ],
   "source": [
    "revenu_m2.head()"
   ]
  },
  {
   "cell_type": "code",
   "execution_count": 40,
   "metadata": {
    "collapsed": true
   },
   "outputs": [],
   "source": [
    "revenu_m2_median = revenu_m2.groupby(['ligne'], sort=False).DEC_MED14.mean()"
   ]
  },
  {
   "cell_type": "code",
   "execution_count": 41,
   "metadata": {},
   "outputs": [
    {
     "data": {
      "text/plain": [
       "ligne\n",
       "Bougainville                          5879.000000\n",
       "National                              6103.333333\n",
       "Désirée Clary                         8318.000000\n",
       "Joliette                             12854.250000\n",
       "Jules Guesde                          7238.800000\n",
       "Saint-Charles                         9848.000000\n",
       "Noailles                              8763.500000\n",
       "Notre-Dame-du-Mont - Cours Julien    18334.666667\n",
       "Castellane                           20032.000000\n",
       "Périer                               27578.800000\n",
       "Rond-point du Prado                  24451.500000\n",
       "Sainte-Marguerite Dromel             18033.000000\n",
       "Name: DEC_MED14, dtype: float64"
      ]
     },
     "execution_count": 41,
     "metadata": {},
     "output_type": "execute_result"
    }
   ],
   "source": [
    "revenu_m2_median"
   ]
  },
  {
   "cell_type": "code",
   "execution_count": 92,
   "metadata": {},
   "outputs": [
    {
     "data": {
      "text/plain": [
       "<matplotlib.axes._subplots.AxesSubplot at 0x1235bef98>"
      ]
     },
     "execution_count": 92,
     "metadata": {},
     "output_type": "execute_result"
    },
    {
     "data": {
      "image/png": "[encoded data removed]",
      "text/plain": [
       "<matplotlib.figure.Figure at 0x1235d56d8>"
      ]
     },
     "metadata": {},
     "output_type": "display_data"
    }
   ],
   "source": [
    "revenu_m2_median.plot(kind='line', rot=90, title='revenus')"
   ]
  },
  {
   "cell_type": "markdown",
   "metadata": {},
   "source": [
    "## Population\n",
    "\n",
    "Newest version I found so far: https://www.insee.fr/fr/statistiques/2386737"
   ]
  },
  {
   "cell_type": "code",
   "execution_count": 43,
   "metadata": {
    "collapsed": true
   },
   "outputs": [],
   "source": [
    "#file path\n",
    "population_file = 'data/base-ic-evol-struct-pop-2013.xls'\n",
    "\n",
    "population = pd.read_excel(population_file, skiprows=5)"
   ]
  },
  {
   "cell_type": "code",
   "execution_count": 45,
   "metadata": {},
   "outputs": [],
   "source": [
    "population['IRIS'] = population['IRIS'].astype('str')"
   ]
  },
  {
   "cell_type": "code",
   "execution_count": 46,
   "metadata": {
    "collapsed": true
   },
   "outputs": [],
   "source": [
    "population_m2 = iris_selection.merge(population, left_on='code_iris', right_on='IRIS')"
   ]
  },
  {
   "cell_type": "code",
   "execution_count": 48,
   "metadata": {},
   "outputs": [
    {
     "data": {
      "text/html": [
       "<div>\n",
       "<style>\n",
       "    .dataframe thead tr:only-child th {\n",
       "        text-align: right;\n",
       "    }\n",
       "\n",
       "    .dataframe thead th {\n",
       "        text-align: left;\n",
       "    }\n",
       "\n",
       "    .dataframe tbody tr th {\n",
       "        vertical-align: top;\n",
       "    }\n",
       "</style>\n",
       "<table border=\"1\" class=\"dataframe\">\n",
       "  <thead>\n",
       "    <tr style=\"text-align: right;\">\n",
       "      <th></th>\n",
       "      <th>ligne</th>\n",
       "      <th>code_iris</th>\n",
       "      <th>lib_iris</th>\n",
       "      <th>IRIS</th>\n",
       "      <th>REG</th>\n",
       "      <th>REG2016</th>\n",
       "      <th>DEP</th>\n",
       "      <th>UU2010</th>\n",
       "      <th>COM</th>\n",
       "      <th>LIBCOM</th>\n",
       "      <th>...</th>\n",
       "      <th>C13_F15P_CS4</th>\n",
       "      <th>C13_F15P_CS5</th>\n",
       "      <th>C13_F15P_CS6</th>\n",
       "      <th>C13_F15P_CS7</th>\n",
       "      <th>C13_F15P_CS8</th>\n",
       "      <th>P13_POP_FR</th>\n",
       "      <th>P13_POP_ETR</th>\n",
       "      <th>P13_POP_IMM</th>\n",
       "      <th>P13_PMEN</th>\n",
       "      <th>P13_PHORMEN</th>\n",
       "    </tr>\n",
       "  </thead>\n",
       "  <tbody>\n",
       "    <tr>\n",
       "      <th>0</th>\n",
       "      <td>Bougainville</td>\n",
       "      <td>132150501</td>\n",
       "      <td>Zoccolat</td>\n",
       "      <td>132150501</td>\n",
       "      <td>93</td>\n",
       "      <td>93</td>\n",
       "      <td>13</td>\n",
       "      <td>00759</td>\n",
       "      <td>13215</td>\n",
       "      <td>Marseille 15e Arrondissement</td>\n",
       "      <td>...</td>\n",
       "      <td>23.994053</td>\n",
       "      <td>147.361614</td>\n",
       "      <td>45.402013</td>\n",
       "      <td>64.991781</td>\n",
       "      <td>637.669842</td>\n",
       "      <td>2192.122047</td>\n",
       "      <td>773.144619</td>\n",
       "      <td>763.636369</td>\n",
       "      <td>2819.267289</td>\n",
       "      <td>145.999377</td>\n",
       "    </tr>\n",
       "    <tr>\n",
       "      <th>1</th>\n",
       "      <td>Bougainville</td>\n",
       "      <td>132140302</td>\n",
       "      <td>Casanova</td>\n",
       "      <td>132140302</td>\n",
       "      <td>93</td>\n",
       "      <td>93</td>\n",
       "      <td>13</td>\n",
       "      <td>00759</td>\n",
       "      <td>13214</td>\n",
       "      <td>Marseille 14e Arrondissement</td>\n",
       "      <td>...</td>\n",
       "      <td>48.905068</td>\n",
       "      <td>139.170441</td>\n",
       "      <td>33.237124</td>\n",
       "      <td>227.407807</td>\n",
       "      <td>321.148090</td>\n",
       "      <td>1651.147440</td>\n",
       "      <td>300.817321</td>\n",
       "      <td>406.053010</td>\n",
       "      <td>1919.964845</td>\n",
       "      <td>31.999916</td>\n",
       "    </tr>\n",
       "    <tr>\n",
       "      <th>2</th>\n",
       "      <td>National</td>\n",
       "      <td>132030304</td>\n",
       "      <td>Briancon</td>\n",
       "      <td>132030304</td>\n",
       "      <td>93</td>\n",
       "      <td>93</td>\n",
       "      <td>13</td>\n",
       "      <td>00759</td>\n",
       "      <td>13203</td>\n",
       "      <td>Marseille 3e Arrondissement</td>\n",
       "      <td>...</td>\n",
       "      <td>11.871886</td>\n",
       "      <td>147.077728</td>\n",
       "      <td>3.548990</td>\n",
       "      <td>79.771603</td>\n",
       "      <td>250.011373</td>\n",
       "      <td>1073.327766</td>\n",
       "      <td>298.924237</td>\n",
       "      <td>429.929506</td>\n",
       "      <td>1372.252003</td>\n",
       "      <td>0.000000</td>\n",
       "    </tr>\n",
       "    <tr>\n",
       "      <th>3</th>\n",
       "      <td>National</td>\n",
       "      <td>132030305</td>\n",
       "      <td>Bellevue Caravelle</td>\n",
       "      <td>132030305</td>\n",
       "      <td>93</td>\n",
       "      <td>93</td>\n",
       "      <td>13</td>\n",
       "      <td>00759</td>\n",
       "      <td>13203</td>\n",
       "      <td>Marseille 3e Arrondissement</td>\n",
       "      <td>...</td>\n",
       "      <td>26.532188</td>\n",
       "      <td>109.124562</td>\n",
       "      <td>29.747276</td>\n",
       "      <td>33.706547</td>\n",
       "      <td>290.913835</td>\n",
       "      <td>1072.404399</td>\n",
       "      <td>377.575131</td>\n",
       "      <td>387.722059</td>\n",
       "      <td>1449.979530</td>\n",
       "      <td>0.000000</td>\n",
       "    </tr>\n",
       "    <tr>\n",
       "      <th>4</th>\n",
       "      <td>National</td>\n",
       "      <td>132030306</td>\n",
       "      <td>Bellevue-Pyat</td>\n",
       "      <td>132030306</td>\n",
       "      <td>93</td>\n",
       "      <td>93</td>\n",
       "      <td>13</td>\n",
       "      <td>00759</td>\n",
       "      <td>13203</td>\n",
       "      <td>Marseille 3e Arrondissement</td>\n",
       "      <td>...</td>\n",
       "      <td>0.000000</td>\n",
       "      <td>51.400881</td>\n",
       "      <td>16.531057</td>\n",
       "      <td>53.741254</td>\n",
       "      <td>250.611704</td>\n",
       "      <td>793.624920</td>\n",
       "      <td>252.051419</td>\n",
       "      <td>379.315973</td>\n",
       "      <td>1045.676339</td>\n",
       "      <td>0.000000</td>\n",
       "    </tr>\n",
       "  </tbody>\n",
       "</table>\n",
       "<p>5 rows × 88 columns</p>\n",
       "</div>"
      ],
      "text/plain": [
       "          ligne  code_iris            lib_iris       IRIS  REG  REG2016 DEP  \\\n",
       "0  Bougainville  132150501            Zoccolat  132150501   93       93  13   \n",
       "1  Bougainville  132140302            Casanova  132140302   93       93  13   \n",
       "2      National  132030304            Briancon  132030304   93       93  13   \n",
       "3      National  132030305  Bellevue Caravelle  132030305   93       93  13   \n",
       "4      National  132030306       Bellevue-Pyat  132030306   93       93  13   \n",
       "\n",
       "  UU2010    COM                        LIBCOM     ...      C13_F15P_CS4  \\\n",
       "0  00759  13215  Marseille 15e Arrondissement     ...         23.994053   \n",
       "1  00759  13214  Marseille 14e Arrondissement     ...         48.905068   \n",
       "2  00759  13203   Marseille 3e Arrondissement     ...         11.871886   \n",
       "3  00759  13203   Marseille 3e Arrondissement     ...         26.532188   \n",
       "4  00759  13203   Marseille 3e Arrondissement     ...          0.000000   \n",
       "\n",
       "  C13_F15P_CS5 C13_F15P_CS6 C13_F15P_CS7 C13_F15P_CS8   P13_POP_FR  \\\n",
       "0   147.361614    45.402013    64.991781   637.669842  2192.122047   \n",
       "1   139.170441    33.237124   227.407807   321.148090  1651.147440   \n",
       "2   147.077728     3.548990    79.771603   250.011373  1073.327766   \n",
       "3   109.124562    29.747276    33.706547   290.913835  1072.404399   \n",
       "4    51.400881    16.531057    53.741254   250.611704   793.624920   \n",
       "\n",
       "   P13_POP_ETR  P13_POP_IMM     P13_PMEN  P13_PHORMEN  \n",
       "0   773.144619   763.636369  2819.267289   145.999377  \n",
       "1   300.817321   406.053010  1919.964845    31.999916  \n",
       "2   298.924237   429.929506  1372.252003     0.000000  \n",
       "3   377.575131   387.722059  1449.979530     0.000000  \n",
       "4   252.051419   379.315973  1045.676339     0.000000  \n",
       "\n",
       "[5 rows x 88 columns]"
      ]
     },
     "execution_count": 48,
     "metadata": {},
     "output_type": "execute_result"
    }
   ],
   "source": [
    "population_m2.head()"
   ]
  },
  {
   "cell_type": "code",
   "execution_count": 49,
   "metadata": {
    "collapsed": true
   },
   "outputs": [],
   "source": [
    "population_m2_pop_total = population_m2.groupby(['ligne'], sort=False).P13_POP.mean()"
   ]
  },
  {
   "cell_type": "code",
   "execution_count": 50,
   "metadata": {},
   "outputs": [
    {
     "data": {
      "text/plain": [
       "ligne\n",
       "Bougainville                         2458.615713\n",
       "National                             1653.750794\n",
       "Désirée Clary                        2506.727441\n",
       "Joliette                             1865.578734\n",
       "Jules Guesde                         1923.233311\n",
       "Saint-Charles                        1805.797303\n",
       "Noailles                             2309.930665\n",
       "Notre-Dame-du-Mont - Cours Julien    2363.539672\n",
       "Castellane                           2257.848021\n",
       "Périer                               2288.328722\n",
       "Rond-point du Prado                  2433.966870\n",
       "Sainte-Marguerite Dromel             2421.443476\n",
       "Name: P13_POP, dtype: float64"
      ]
     },
     "execution_count": 50,
     "metadata": {},
     "output_type": "execute_result"
    }
   ],
   "source": [
    "population_m2_pop_total"
   ]
  },
  {
   "cell_type": "code",
   "execution_count": 88,
   "metadata": {},
   "outputs": [
    {
     "data": {
      "text/plain": [
       "<matplotlib.axes._subplots.AxesSubplot at 0x127830b70>"
      ]
     },
     "execution_count": 88,
     "metadata": {},
     "output_type": "execute_result"
    },
    {
     "data": {
      "image/png": "[encoded data removed]",
      "text/plain": [
       "<matplotlib.figure.Figure at 0x1230f7a58>"
      ]
     },
     "metadata": {},
     "output_type": "display_data"
    }
   ],
   "source": [
    "population_m2_pop_total.plot(kind='line', rot=90)"
   ]
  },
  {
   "cell_type": "code",
   "execution_count": 52,
   "metadata": {
    "collapsed": true
   },
   "outputs": [],
   "source": [
    "# nombre d'hommes\n",
    "\n",
    "population_m2_pop_homme = population_m2.groupby(['ligne'], sort=False).P13_POPH.mean()"
   ]
  },
  {
   "cell_type": "code",
   "execution_count": 53,
   "metadata": {},
   "outputs": [
    {
     "data": {
      "text/plain": [
       "ligne\n",
       "Bougainville                         1289.350916\n",
       "National                              809.106177\n",
       "Désirée Clary                        1196.842312\n",
       "Joliette                              952.237601\n",
       "Jules Guesde                         1020.383073\n",
       "Saint-Charles                         962.392376\n",
       "Noailles                             1216.992479\n",
       "Notre-Dame-du-Mont - Cours Julien    1109.132979\n",
       "Castellane                           1016.644083\n",
       "Périer                               1038.348120\n",
       "Rond-point du Prado                  1112.331540\n",
       "Sainte-Marguerite Dromel             1120.221055\n",
       "Name: P13_POPH, dtype: float64"
      ]
     },
     "execution_count": 53,
     "metadata": {},
     "output_type": "execute_result"
    }
   ],
   "source": [
    "population_m2_pop_homme"
   ]
  },
  {
   "cell_type": "code",
   "execution_count": 54,
   "metadata": {
    "collapsed": true
   },
   "outputs": [],
   "source": [
    "# nombre d'immigrés / \"Migrationshintergrund\"\n",
    "\n",
    "population_m2_pop_imm = population_m2.groupby(['ligne'], sort=False).P13_POP_IMM.mean()"
   ]
  },
  {
   "cell_type": "code",
   "execution_count": 55,
   "metadata": {},
   "outputs": [
    {
     "data": {
      "text/plain": [
       "ligne\n",
       "Bougainville                         584.844690\n",
       "National                             527.337888\n",
       "Désirée Clary                        687.078237\n",
       "Joliette                             396.811619\n",
       "Jules Guesde                         622.713561\n",
       "Saint-Charles                        615.856911\n",
       "Noailles                             733.040546\n",
       "Notre-Dame-du-Mont - Cours Julien    308.642139\n",
       "Castellane                           262.637291\n",
       "Périer                               252.161051\n",
       "Rond-point du Prado                  258.153367\n",
       "Sainte-Marguerite Dromel             294.282790\n",
       "Name: P13_POP_IMM, dtype: float64"
      ]
     },
     "execution_count": 55,
     "metadata": {},
     "output_type": "execute_result"
    }
   ],
   "source": [
    "population_m2_pop_imm"
   ]
  },
  {
   "cell_type": "code",
   "execution_count": 87,
   "metadata": {},
   "outputs": [
    {
     "data": {
      "text/plain": [
       "<matplotlib.axes._subplots.AxesSubplot at 0x11ef91748>"
      ]
     },
     "execution_count": 87,
     "metadata": {},
     "output_type": "execute_result"
    },
    {
     "data": {
      "image/png": "[encoded data removed]",
      "text/plain": [
       "<matplotlib.figure.Figure at 0x11f0bf780>"
      ]
     },
     "metadata": {},
     "output_type": "display_data"
    }
   ],
   "source": [
    "population_m2_pop_imm.plot(kind='line', rot=90)"
   ]
  },
  {
   "cell_type": "code",
   "execution_count": 57,
   "metadata": {
    "collapsed": true
   },
   "outputs": [],
   "source": [
    "# nombre de français\n",
    "\n",
    "population_m2_pop_fr = population_m2.groupby(['ligne'], sort=False).P13_POP_FR.mean()"
   ]
  },
  {
   "cell_type": "code",
   "execution_count": 58,
   "metadata": {},
   "outputs": [
    {
     "data": {
      "text/plain": [
       "ligne\n",
       "Bougainville                         1921.634744\n",
       "National                             1279.659870\n",
       "Désirée Clary                        1971.946167\n",
       "Joliette                             1581.016469\n",
       "Jules Guesde                         1465.736272\n",
       "Saint-Charles                        1318.103398\n",
       "Noailles                             1774.655756\n",
       "Notre-Dame-du-Mont - Cours Julien    2149.721018\n",
       "Castellane                           2081.491530\n",
       "Périer                               2129.597694\n",
       "Rond-point du Prado                  2299.903221\n",
       "Sainte-Marguerite Dromel             2272.466447\n",
       "Name: P13_POP_FR, dtype: float64"
      ]
     },
     "execution_count": 58,
     "metadata": {},
     "output_type": "execute_result"
    }
   ],
   "source": [
    "population_m2_pop_fr"
   ]
  },
  {
   "cell_type": "code",
   "execution_count": 86,
   "metadata": {},
   "outputs": [
    {
     "data": {
      "text/plain": [
       "<matplotlib.axes._subplots.AxesSubplot at 0x11ef7ef28>"
      ]
     },
     "execution_count": 86,
     "metadata": {},
     "output_type": "execute_result"
    },
    {
     "data": {
      "image/png": "[encoded data removed]",
      "text/plain": [
       "<matplotlib.figure.Figure at 0x11f0b9710>"
      ]
     },
     "metadata": {},
     "output_type": "display_data"
    }
   ],
   "source": [
    "population_m2_pop_fr.plot(kind='line', rot=90)"
   ]
  },
  {
   "cell_type": "code",
   "execution_count": 59,
   "metadata": {
    "collapsed": true
   },
   "outputs": [],
   "source": [
    "# nombre d'étrangers\n",
    "\n",
    "population_m2_pop_etr = population_m2.groupby(['ligne'], sort=False).P13_POP_ETR.mean()"
   ]
  },
  {
   "cell_type": "code",
   "execution_count": 60,
   "metadata": {},
   "outputs": [
    {
     "data": {
      "text/plain": [
       "ligne\n",
       "Bougainville                         536.980970\n",
       "National                             374.090924\n",
       "Désirée Clary                        534.781274\n",
       "Joliette                             284.562265\n",
       "Jules Guesde                         457.497039\n",
       "Saint-Charles                        487.693905\n",
       "Noailles                             535.274909\n",
       "Notre-Dame-du-Mont - Cours Julien    213.818654\n",
       "Castellane                           176.356491\n",
       "Périer                               158.731027\n",
       "Rond-point du Prado                  134.063649\n",
       "Sainte-Marguerite Dromel             148.977029\n",
       "Name: P13_POP_ETR, dtype: float64"
      ]
     },
     "execution_count": 60,
     "metadata": {},
     "output_type": "execute_result"
    }
   ],
   "source": [
    "population_m2_pop_etr"
   ]
  },
  {
   "cell_type": "code",
   "execution_count": 72,
   "metadata": {
    "collapsed": true
   },
   "outputs": [],
   "source": [
    "population_m2_immigration_df = pd.concat([population_m2_pop_total, population_m2_pop_etr, population_m2_pop_fr, population_m2_pop_imm], axis=1).reset_index()"
   ]
  },
  {
   "cell_type": "code",
   "execution_count": 73,
   "metadata": {},
   "outputs": [],
   "source": [
    "population_m2_immigration_df['percent_immigration'] = population_m2_immigration_df['P13_POP_IMM'] * 100 / population_m2_immigration_df['P13_POP'] "
   ]
  },
  {
   "cell_type": "code",
   "execution_count": 91,
   "metadata": {},
   "outputs": [
    {
     "data": {
      "text/plain": [
       "[<matplotlib.text.Text at 0x1234b2438>,\n",
       " <matplotlib.text.Text at 0x1234df278>,\n",
       " <matplotlib.text.Text at 0x1235b8e80>,\n",
       " <matplotlib.text.Text at 0x1235be978>,\n",
       " <matplotlib.text.Text at 0x1235c2470>,\n",
       " <matplotlib.text.Text at 0x1235c2f28>,\n",
       " <matplotlib.text.Text at 0x1235c9a20>,\n",
       " <matplotlib.text.Text at 0x1235cf518>,\n",
       " <matplotlib.text.Text at 0x1235cffd0>,\n",
       " <matplotlib.text.Text at 0x1235d5ac8>,\n",
       " <matplotlib.text.Text at 0x1235db5c0>,\n",
       " <matplotlib.text.Text at 0x1235e20b8>]"
      ]
     },
     "execution_count": 91,
     "metadata": {},
     "output_type": "execute_result"
    },
    {
     "data": {
      "image/png": "[encoded data removed]",
      "text/plain": [
       "<matplotlib.figure.Figure at 0x123135c50>"
      ]
     },
     "metadata": {},
     "output_type": "display_data"
    }
   ],
   "source": [
    "ax = population_m2_immigration_df['percent_immigration'].plot(xticks=population_m2_immigration_df.index, rot=90, title=\"pourcentage d'immigrés\")\n",
    "ax.set_xticklabels(population_m2_immigration_df.ligne)"
   ]
  },
  {
   "cell_type": "code",
   "execution_count": null,
   "metadata": {
    "collapsed": true
   },
   "outputs": [],
   "source": []
  }
 ],
 "metadata": {
  "kernelspec": {
   "display_name": "Python 3",
   "language": "python",
   "name": "python3"
  },
  "language_info": {
   "codemirror_mode": {
    "name": "ipython",
    "version": 3
   },
   "file_extension": ".py",
   "mimetype": "text/x-python",
   "name": "python",
   "nbconvert_exporter": "python",
   "pygments_lexer": "ipython3",
   "version": "3.6.1"
  }
 },
 "nbformat": 4,
 "nbformat_minor": 2
}
